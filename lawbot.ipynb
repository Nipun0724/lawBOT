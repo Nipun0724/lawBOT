{
  "nbformat": 4,
  "nbformat_minor": 0,
  "metadata": {
    "colab": {
      "provenance": [],
      "authorship_tag": "ABX9TyOSiR7LmOdkf7Mf1a/WC6KU",
      "include_colab_link": true
    },
    "kernelspec": {
      "name": "python3",
      "display_name": "Python 3"
    },
    "language_info": {
      "name": "python"
    }
  },
  "cells": [
    {
      "cell_type": "markdown",
      "metadata": {
        "id": "view-in-github",
        "colab_type": "text"
      },
      "source": [
        "<a href=\"https://colab.research.google.com/github/simranroy01/lawBOT/blob/main/lawbot.ipynb\" target=\"_parent\"><img src=\"https://colab.research.google.com/assets/colab-badge.svg\" alt=\"Open In Colab\"/></a>"
      ]
    },
    {
      "cell_type": "code",
      "execution_count": 1,
      "metadata": {
        "id": "1oQEJra7zoQW"
      },
      "outputs": [],
      "source": [
        "import pandas as pd\n",
        "import nltk\n",
        "import string\n",
        "import random\n",
        "from sklearn.feature_extraction.text import TfidfVectorizer\n",
        "from sklearn.metrics.pairwise import cosine_similarity"
      ]
    },
    {
      "cell_type": "code",
      "source": [
        "nltk.download('punkt')"
      ],
      "metadata": {
        "colab": {
          "base_uri": "https://localhost:8080/"
        },
        "id": "rVfudtWi1H91",
        "outputId": "20acd343-a0c5-4a39-9cb8-96c79afd6d07"
      },
      "execution_count": 3,
      "outputs": [
        {
          "output_type": "stream",
          "name": "stderr",
          "text": [
            "[nltk_data] Downloading package punkt to /root/nltk_data...\n",
            "[nltk_data]   Unzipping tokenizers/punkt.zip.\n"
          ]
        },
        {
          "output_type": "execute_result",
          "data": {
            "text/plain": [
              "True"
            ]
          },
          "metadata": {},
          "execution_count": 3
        }
      ]
    },
    {
      "cell_type": "code",
      "source": [
        "# Load the legal dataset from CSV\n",
        "df = pd.read_csv('ipc_sections.csv')\n",
        "\n",
        "# Preprocess the dataset\n",
        "df['text'] = df['Description'] + ' ' + df['Offense'] + ' ' + df['Punishment'] + ' ' + df['Section']\n",
        "df['text'] = df['text'].astype(str)  # Convert all values to string"
      ],
      "metadata": {
        "id": "3mpeX1c7zwes"
      },
      "execution_count": 5,
      "outputs": []
    },
    {
      "cell_type": "code",
      "source": [
        "# Initialize NLTK resources\n",
        "nltk.download('punkt')\n",
        "nltk.download('wordnet')\n",
        "nltk.download('omw-1.4')\n",
        "\n",
        "lemmer = nltk.stem.WordNetLemmatizer()"
      ],
      "metadata": {
        "colab": {
          "base_uri": "https://localhost:8080/"
        },
        "id": "J815bHBmz68M",
        "outputId": "d3097a02-b08f-4733-cb69-5cd5f7305346"
      },
      "execution_count": 6,
      "outputs": [
        {
          "output_type": "stream",
          "name": "stderr",
          "text": [
            "[nltk_data] Downloading package punkt to /root/nltk_data...\n",
            "[nltk_data]   Package punkt is already up-to-date!\n",
            "[nltk_data] Downloading package wordnet to /root/nltk_data...\n",
            "[nltk_data] Downloading package omw-1.4 to /root/nltk_data...\n"
          ]
        }
      ]
    },
    {
      "cell_type": "code",
      "source": [
        "# Function to lemmatize tokens\n",
        "def LemToken(tokens):\n",
        "    return [lemmer.lemmatize(token) for token in tokens]\n",
        "\n",
        "remove_punc_dict = dict((ord(punct), None) for punct in string.punctuation)"
      ],
      "metadata": {
        "id": "tHOC9AVjz-V3"
      },
      "execution_count": 7,
      "outputs": []
    },
    {
      "cell_type": "code",
      "source": [
        "# Function to lemmatize and normalize text\n",
        "def LemNormalize(text):\n",
        "    return LemToken(nltk.word_tokenize(text.lower().translate(remove_punc_dict)))\n",
        "\n",
        "# Initialize TF-IDF Vectorizer\n",
        "TfidfVec = TfidfVectorizer(tokenizer=LemNormalize, stop_words='english', token_pattern=r'(?u)\\b\\w\\w+\\b')\n",
        "\n",
        "# Fit TF-IDF Vectorizer on legal dataset text\n",
        "tfidf_matrix = TfidfVec.fit_transform(df['text'])"
      ],
      "metadata": {
        "colab": {
          "base_uri": "https://localhost:8080/"
        },
        "id": "Bnq0pa1vz_hF",
        "outputId": "869bbfce-8c32-48c3-9281-ec2a28e0ea71"
      },
      "execution_count": 8,
      "outputs": [
        {
          "output_type": "stream",
          "name": "stderr",
          "text": [
            "/usr/local/lib/python3.10/dist-packages/sklearn/feature_extraction/text.py:528: UserWarning: The parameter 'token_pattern' will not be used since 'tokenizer' is not None'\n",
            "  warnings.warn(\n",
            "/usr/local/lib/python3.10/dist-packages/sklearn/feature_extraction/text.py:409: UserWarning: Your stop_words may be inconsistent with your preprocessing. Tokenizing the stop words generated tokens ['ha', 'le', 'u', 'wa'] not in stop_words.\n",
            "  warnings.warn(\n"
          ]
        }
      ]
    },
    {
      "cell_type": "code",
      "source": [
        "# Function to generate response using TF-IDF and cosine similarity\n",
        "def response(user_response):\n",
        "    user_response = ' '.join(nltk.word_tokenize(user_response.lower()))\n",
        "    query_vector = TfidfVec.transform([user_response])\n",
        "    cosine_similarities = cosine_similarity(query_vector, tfidf_matrix)\n",
        "    idx = cosine_similarities.argsort()[0][-1]\n",
        "    return df.iloc[idx]['text']"
      ],
      "metadata": {
        "id": "Up8aPsPh0D-T"
      },
      "execution_count": 9,
      "outputs": []
    },
    {
      "cell_type": "code",
      "source": [
        "# Function to handle greetings\n",
        "def greet(sentence):\n",
        "    for word in sentence.split():\n",
        "        if word.lower() in ('hello', 'hi', 'wassup', 'hey'):\n",
        "            return random.choice(['hi', 'hey!', 'hey there!', 'hola user'])"
      ],
      "metadata": {
        "id": "685H8qP30Ijz"
      },
      "execution_count": 10,
      "outputs": []
    },
    {
      "cell_type": "code",
      "source": [
        "# Main execution loop\n",
        "flag = True\n",
        "print('Bot: Hello, I am your legal chatbot. How can I help you?')\n",
        "while flag:\n",
        "    user_response = input('You: ')\n",
        "    user_response = user_response.lower()\n",
        "    if user_response != 'bye':\n",
        "        if user_response == 'thank you' or user_response == 'thanks':\n",
        "            flag = False\n",
        "            print('Bot: You are welcome')\n",
        "        else:\n",
        "            if greet(user_response) is not None:\n",
        "                print('Bot:', greet(user_response))\n",
        "            else:\n",
        "                bot_response = response(user_response)\n",
        "                print('Bot:', bot_response)\n",
        "    else:\n",
        "        flag = False\n",
        "        print('Bot: Goodbye!!')"
      ],
      "metadata": {
        "colab": {
          "base_uri": "https://localhost:8080/"
        },
        "id": "3xgfxYr_0Ltk",
        "outputId": "97582b14-f1bc-48da-8709-96d248a2c99a"
      },
      "execution_count": null,
      "outputs": [
        {
          "metadata": {
            "tags": null
          },
          "name": "stdout",
          "output_type": "stream",
          "text": [
            "Bot: Hello, I am your legal chatbot. How can I help you?\n",
            "Bot: Description of IPC Section 511\n",
            "According to section 511 of Indian penal code, Whoever attempts to commit an offence punishable by this Code with imprisonment for life or imprisonment, or to cause such an offence to be committed, and in such attempt does any act towards the commission of the offence, shall, where no express provision is made by this Code for the punishment of such attempt, be punished with imprisonment of any description provided for the offence, for a term which may extend to one-half of the imprisonment for life or, as the case may be, one-half of the longest term of imprisonment provided for that offence, or with such fine as is provided for the offence, or with both.\n",
            "\n",
            "IPC 511 in Simple Words\n",
            "Whoever tries to commit a crime punishable by imprisonment or causes someone else to commit it, but fails, can be punished with imprisonment up to half the maximum term or a fine, as specified for that offense. Attempting to commit offences punishable with imprisonment for life, or imprisonment, and in such attempt doing any act towards the commission of the offence Imprisonment for Life or Imprisonment not exceeding, half of the longest term provided for the Offence, or Fine, or Both IPC_511\n",
            "Bot: Description of IPC Section 146\n",
            "According to section 146 of Indian penal code, Whenever force or violence is used by an unlawful assembly, or by any member thereof, in prosecution of the common object of such assembly, every member of such assembly is guilty of the offence of rioting.\n",
            "\n",
            "\n",
            "IPC 146 in Simple Words\n",
            "If an unlawful assembly uses force or violence to achieve their common goal, every member of that assembly is considered guilty of the offense of rioting. Rioting 2 Years or Fine or Both IPC_146\n",
            "Bot: Description of IPC Section 498A\n",
            "According to section 498A of Indian penal code, Whoever, being the husband or the relative of the husband of a woman, subjects such woman to cruelty shall be punished with imprisonment for a term which may extend to three years and shall also be liable to fine.\n",
            "\n",
            "\n",
            "IPC 498A in Simple Words\n",
            "If a woman's husband or a relative of the husband mistreats her, they can be punished with up to three years of imprisonment and may have to pay a fine. Punishment for subjecting a married woman to Cruelty 3 Years + Fine IPC_498A\n"
          ]
        }
      ]
    }
  ]
}